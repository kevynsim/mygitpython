{
 "cells": [
  {
   "cell_type": "code",
   "execution_count": 85,
   "metadata": {},
   "outputs": [],
   "source": [
    "import requests\n",
    "import csv\n",
    "\n",
    "# 1. Open page\n",
    "page = requests.get('https://www.iproperty.com.sg/rent/district-21/condominium/')\n",
    "\n",
    "# 2. Parsing the page using BeautifulSoup\n",
    "from bs4 import BeautifulSoup\n",
    "soup = BeautifulSoup(page.content, 'html.parser')\n",
    "\n",
    "# 3. Get all the tags of property name, psf, price\n",
    "all_name_list = soup.findAll(class_='jPjrzv') # Get all names (no double entry)\n",
    "len_name = len(all_name_list)\n",
    "\n",
    "all_psf_list = soup.findAll(class_='attrs-price-per-unit-desktop') # all psf (no double entry)\n",
    "len_psf = len(all_psf_list)\n",
    "\n",
    "all_price_list = soup.findAll(class_='listing-primary-price-item kigVNh') # Get all prices (double entry)\n",
    "len_price = len(all_price_list)\n",
    "\n",
    "x=0\n",
    "y=0\n",
    "empty_prop=[]\n",
    "while y < len_price and x < len_name:\n",
    "    name = all_name_list[x].get_text()\n",
    "    psf = all_psf_list[x].get_text()\n",
    "    price = all_price_list[y].get_text()\n",
    "    prop = name + '|' + psf + '|' + price # combine all texts\n",
    "    prop2 = prop.split('|') # convert to a list\n",
    "    empty_prop.append(prop2) # list of lists\n",
    "    x=x+1\n",
    "    y=y+2\n",
    "\n",
    "with open(\"output.csv\", \"w\", newline='') as f: # writing the list to csv. 'wb' will write byte, newline remove extra line spacing in csv\n",
    "    writer = csv.writer(f)\n",
    "    writer.writerows(empty_prop)"
   ]
  },
  {
   "cell_type": "code",
   "execution_count": null,
   "metadata": {
    "collapsed": true
   },
   "outputs": [],
   "source": []
  }
 ],
 "metadata": {
  "kernelspec": {
   "display_name": "Python 3",
   "language": "python",
   "name": "python3"
  },
  "language_info": {
   "codemirror_mode": {
    "name": "ipython",
    "version": 3
   },
   "file_extension": ".py",
   "mimetype": "text/x-python",
   "name": "python",
   "nbconvert_exporter": "python",
   "pygments_lexer": "ipython3",
   "version": "3.6.3"
  }
 },
 "nbformat": 4,
 "nbformat_minor": 2
}
