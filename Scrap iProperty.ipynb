{
 "cells": [
  {
   "cell_type": "code",
   "execution_count": 151,
   "metadata": {},
   "outputs": [
    {
     "name": "stdout",
     "output_type": "stream",
     "text": [
      "SGD 5,300\n",
      "SGD 3,100\n",
      "SGD 3,500\n",
      "SGD 3,500\n",
      "SGD 3,300\n",
      "SGD 3,300\n",
      "SGD 2,700\n",
      "SGD 2,700\n",
      "SGD 3,100\n",
      "SGD 3,100\n",
      "SGD 3,450\n",
      "SGD 3,450\n",
      "SGD 3,500\n",
      "SGD 3,500\n",
      "SGD 4,800\n",
      "SGD 4,800\n",
      "SGD 3,400\n",
      "SGD 3,400\n",
      "SGD 3,800\n",
      "SGD 3,800\n",
      "SGD 2,900\n",
      "SGD 2,900\n",
      "SGD 2,400\n",
      "SGD 2,400\n",
      "SGD 2,800\n",
      "SGD 2,800\n",
      "SGD 4,800\n",
      "SGD 4,800\n",
      "SGD 4,700\n",
      "SGD 4,700\n",
      "SGD 5,300\n",
      "SGD 5,300\n",
      "SGD 4,300\n",
      "SGD 4,300\n",
      "SGD 3,900\n",
      "SGD 3,900\n",
      "SGD 5,000\n",
      "SGD 5,000\n",
      "Built-up : 3200 sq. ft. Built-up : 3200 sq. ft. \n",
      "Built-up : 1530 sq. ft. Built-up : 1530 sq. ft. \n",
      "Built-up : 1500 sq. ft. Built-up : 1500 sq. ft. \n",
      "Built-up : 1582 sq. ft. Built-up : 1582 sq. ft. \n",
      "Built-up : 1289 sq. ft. Built-up : 1289 sq. ft. \n",
      "Built-up : 1496 sq. ft. Built-up : 1496 sq. ft. \n",
      "Built-up : 1507 sq. ft. Built-up : 1507 sq. ft. \n",
      "Built-up : 1539 sq. ft. Built-up : 1539 sq. ft. \n",
      "Built-up : 1377 sq. ft. Built-up : 1377 sq. ft. \n",
      "Built-up : 1691 sq. ft. Built-up : 1691 sq. ft. \n",
      "Built-up : 1108 sq. ft. Built-up : 1108 sq. ft. \n",
      "Built-up : 1205 sq. ft. Built-up : 1205 sq. ft. \n",
      "Built-up : 1539 sq. ft. Built-up : 1539 sq. ft. \n",
      "Built-up : 1572 sq. ft. Built-up : 1572 sq. ft. \n",
      "Built-up : 1754 sq. ft. Built-up : 1754 sq. ft. \n",
      "Built-up : 2600 sq. ft. Built-up : 2600 sq. ft. \n",
      "Built-up : 2003 sq. ft. Built-up : 2003 sq. ft. \n",
      "Built-up : 1529 sq. ft. Built-up : 1529 sq. ft. \n",
      "Built-up : 1760 sq. ft. Built-up : 1760 sq. ft. \n",
      "Built-up : 2228 sq. ft. Built-up : 2228 sq. ft. \n"
     ]
    }
   ],
   "source": [
    "import bs4\n",
    "from bs4 import BeautifulSoup as soup\n",
    "import urllib\n",
    "import csv\n",
    "\n",
    "my_url = 'https://www.iproperty.com.sg/rent/district-21/condominium/?bedroom=3'\n",
    "\n",
    "# Opening up a connection, grab the page into a variable uclient\n",
    "ureq = urllib.request.urlopen(my_url)\n",
    "uclient = ureq\n",
    "\n",
    "# Read the page into variable page_html\n",
    "page_html = uclient.read()\n",
    "\n",
    "# Close the uclient variable\n",
    "uclient.close()\n",
    "\n",
    "# Parse the page in page_html into variable page_soup as a html file\n",
    "page_soup = soup(page_html, \"html.parser\")\n",
    "\n",
    "# Get prices\n",
    "price = page_soup.findAll('ul','listing-primary-price jMWEse')\n",
    "sqft = page_soup.findAll('li', 'attributes-price-per-unit-size-item fsbnan')\n",
    "\n",
    "for data in price:\n",
    "    Price =  data.text\n",
    "    print(Price)\n",
    "\n",
    "for data in sqft:\n",
    "    sqft =  data.text\n",
    "    print(sqft)"
   ]
  },
  {
   "cell_type": "code",
   "execution_count": 140,
   "metadata": {},
   "outputs": [
    {
     "data": {
      "text/plain": [
       "38"
      ]
     },
     "execution_count": 140,
     "metadata": {},
     "output_type": "execute_result"
    }
   ],
   "source": [
    "len(containers)"
   ]
  },
  {
   "cell_type": "code",
   "execution_count": 135,
   "metadata": {},
   "outputs": [
    {
     "name": "stdout",
     "output_type": "stream",
     "text": [
      "Posted yesterday 12:16 AM\n"
     ]
    }
   ],
   "source": [
    "date = containers[0].p # date posted\n",
    "date_posted = date.text.strip()\n",
    "print (date_posted)"
   ]
  },
  {
   "cell_type": "code",
   "execution_count": 72,
   "metadata": {},
   "outputs": [
    {
     "name": "stdout",
     "output_type": "stream",
     "text": [
      "Annie Yeo - ELA PROPERTY SERVICES\n"
     ]
    }
   ],
   "source": [
    "agent_name = containers[0].h3 # agent name or containers[0].div.div.h3\n",
    "name = agent_name.text.strip()\n",
    "print (name)"
   ]
  },
  {
   "cell_type": "code",
   "execution_count": 136,
   "metadata": {},
   "outputs": [
    {
     "name": "stdout",
     "output_type": "stream",
     "text": [
      "RM 1,830,000\n",
      "RM 1,268,250\n",
      "RM 1,983,600\n",
      "RM 5,800,000\n",
      "RM 5,800,000\n",
      "RM 2,000,000\n",
      "RM 2,000,000\n",
      "RM 110,880,000\n",
      "RM 110,880,000\n",
      "RM 22,831,200\n",
      "RM 22,831,200\n",
      "RM 207,680,000\n",
      "RM 207,680,000\n",
      "RM 230,560,000\n",
      "RM 230,560,000\n",
      "RM 910,000\n",
      "RM 910,000\n",
      "RM 4,000,000\n",
      "RM 4,000,000\n",
      "RM 1,060,000\n",
      "RM 1,060,000\n",
      "RM 1,970,000\n",
      "RM 1,970,000\n",
      "RM 2,200,000\n",
      "RM 2,200,000\n",
      "RM 1,166,000\n",
      "RM 1,166,000\n",
      "RM 1,860,000\n",
      "RM 1,860,000\n",
      "RM 22,142,340\n",
      "RM 22,142,340\n",
      "RM 1,170,000\n",
      "RM 1,170,000\n",
      "RM 13,147,186\n",
      "RM 13,147,186\n",
      "RM 10,540,000\n",
      "RM 10,540,000\n",
      "Built-up : 2,088 sq. ft.Built-up : 2,088 sq. ft.\n",
      "Built-up : 1,335 sq. ft.Built-up : 1,335 sq. ft.\n",
      "Built-up : 2,088 sq. ft.Built-up : 2,088 sq. ft.\n",
      "Built-up : 6,651 sq. ft.Built-up : 6,651 sq. ft.\n",
      "Built-up : 2,292 sq. ft.Built-up : 2,292 sq. ft.\n",
      "Built-up : 126,000 sq. ft.Built-up : 126,000 sq. ft.\n",
      "Built-up : 25,368 sq. ft.Built-up : 25,368 sq. ft.\n",
      "Built-up : 236,000 sq. ft.Built-up : 236,000 sq. ft.\n",
      "Built-up : 262,000 sq. ft.Built-up : 262,000 sq. ft.\n",
      "Built-up : 1,044 sq. ft.Built-up : 1,044 sq. ft.\n",
      "Built-up : 4,584 sq. ft.Built-up : 4,584 sq. ft.\n",
      "Built-up : 2,067 sq. ft.Built-up : 2,067 sq. ft.\n",
      "Built-up : 22,366 sq. ft.Built-up : 22,366 sq. ft.\n",
      "Built-up : 1,300 sq. ft.Built-up : 1,300 sq. ft.\n",
      "Built-up : 11,108 sq. ft.Built-up : 11,108 sq. ft.\n",
      "Built-up : 9,198 sq. ft.Built-up : 9,198 sq. ft.\n"
     ]
    }
   ],
   "source": [
    "# https://stackoverflow.com/questions/46585132/loading-web-scraping-results-into-pandas-dataframe\n",
    "sauce = urllib.request.urlopen('https://www.iproperty.com.my/sale/selangor/all-commercial/?q=UOA%20Business%20Park').read()\n",
    "soup = soup(sauce,'html.parser')\n",
    "\n",
    "price = soup.find_all('ul',class_='listing-primary-price jMWEse')\n",
    "\n",
    "BUA = soup.find_all('li',class_='attributes-price-per-unit-size-item builtUp-attr fsbnan')\n",
    "\n",
    "\n",
    "for data in price:\n",
    "    Price =  data.text\n",
    "    print(Price)\n",
    "\n",
    "for data in BUA:\n",
    "    BUA =  data.text\n",
    "    print(BUA)"
   ]
  },
  {
   "cell_type": "code",
   "execution_count": null,
   "metadata": {
    "collapsed": true
   },
   "outputs": [],
   "source": [
    "a = [data.text for data in price]\n",
    "b = [data.text for data in BUA]\n",
    "\n",
    "df = pd.DataFrame({'price':a, 'BUA':b}, columns=['price','BUA'])"
   ]
  }
 ],
 "metadata": {
  "kernelspec": {
   "display_name": "Python 3",
   "language": "python",
   "name": "python3"
  },
  "language_info": {
   "codemirror_mode": {
    "name": "ipython",
    "version": 3
   },
   "file_extension": ".py",
   "mimetype": "text/x-python",
   "name": "python",
   "nbconvert_exporter": "python",
   "pygments_lexer": "ipython3",
   "version": "3.6.3"
  }
 },
 "nbformat": 4,
 "nbformat_minor": 2
}
