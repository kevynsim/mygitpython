{
 "cells": [
  {
   "cell_type": "code",
   "execution_count": 133,
   "metadata": {},
   "outputs": [],
   "source": [
    "# 1. Download page using requests. Status code 200 means successful\n",
    "import requests\n",
    "page = requests.get('https://www.msn.com/en-sg/money/topstories/10-top-stocks-of-2017/ar-BBGgEyA?li=AA54rX&ocid=spartandhp')\n",
    "\n",
    "# 2. Parsing the page using BeautifulSoup\n",
    "import pandas as pd\n",
    "from bs4 import BeautifulSoup\n",
    "soup = BeautifulSoup(page.content, 'html.parser')\n",
    "\n",
    "# 3. Write the context to a text file\n",
    "all_p_tags = soup.findAll('p') # Put all <p> and their text into a list\n",
    "number_of_tags = len(all_p_tags) # No of <p>?\n",
    "\n",
    "x=0\n",
    "with open('filename.txt', mode='wt', encoding='utf-8') as file:\n",
    "    title = soup.find('h1').text.strip() # Write the <header>\n",
    "    file.write(title)\n",
    "    file.write('\\n')\n",
    "    for x in range(number_of_tags):\n",
    "        word = all_p_tags[x].get_text() # Write the content by referencing each item in the list\n",
    "        file.write(word)\n",
    "        file.write('\\n')\n",
    "    file.close()"
   ]
  }
 ],
 "metadata": {
  "kernelspec": {
   "display_name": "Python 3",
   "language": "python",
   "name": "python3"
  },
  "language_info": {
   "codemirror_mode": {
    "name": "ipython",
    "version": 3
   },
   "file_extension": ".py",
   "mimetype": "text/x-python",
   "name": "python",
   "nbconvert_exporter": "python",
   "pygments_lexer": "ipython3",
   "version": "3.6.3"
  }
 },
 "nbformat": 4,
 "nbformat_minor": 2
}
